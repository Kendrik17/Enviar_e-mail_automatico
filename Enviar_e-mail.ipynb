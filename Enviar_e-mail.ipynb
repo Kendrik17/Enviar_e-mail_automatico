{
  "cells": [
    {
      "cell_type": "markdown",
      "metadata": {
        "id": "view-in-github",
        "colab_type": "text"
      },
      "source": [
        "<a href=\"https://colab.research.google.com/github/Kendrik17/Enviar_e-mail_automatico/blob/main/Enviar_e-mail.ipynb\" target=\"_parent\"><img src=\"https://colab.research.google.com/assets/colab-badge.svg\" alt=\"Open In Colab\"/></a>"
      ]
    },
    {
      "cell_type": "code",
      "execution_count": 2,
      "metadata": {
        "id": "giJiDISY5bkK"
      },
      "outputs": [],
      "source": [
        "import smtplib\n",
        "import email.message\n",
        "\n",
        "def enviar_email():  \n",
        "    corpo_email = \"\"\"\n",
        "    <h1> Olá, seja bem vindos <h1/>\n",
        "    <p>automatizar email</p>\n",
        "    <p>obrigado pela atenção</p>\n",
        "    \"\"\"\n",
        "\n",
        "    msg = email.message.Message()\n",
        "    msg['Subject'] = \"Envio de e-mail automático\"\n",
        "    #coloque seu Gmail \n",
        "    msg['From'] = 'kendrikatx1@gmail.com'\n",
        "    #o da pessoa que irá receber\n",
        "    msg['To'] = 'kendrikatx1@gmail.com'\n",
        "    #Para conseguir sua senha sera mais complicado!\n",
        "    #você tera que criar uma senha aleatoria no seu Gmail.\n",
        "    password = senha \n",
        "    msg.add_header('Content-Type', 'text/html')\n",
        "    msg.set_payload(corpo_email )\n",
        "\n",
        "    s = smtplib.SMTP('smtp.gmail.com: 587')\n",
        "    s.starttls()\n",
        "    # Login Credentials for sending the mail\n",
        "    s.login(msg['From'], password)\n",
        "    s.sendmail(msg['From'], [msg['To']], msg.as_string().encode('utf-8'))\n",
        "    print('Email enviado')"
      ]
    },
    {
      "cell_type": "code",
      "execution_count": null,
      "metadata": {
        "id": "REn8tAXC5bkN"
      },
      "outputs": [],
      "source": [
        "enviar_email()"
      ]
    }
  ],
  "metadata": {
    "kernelspec": {
      "display_name": "Python 3 (ipykernel)",
      "language": "python",
      "name": "python3"
    },
    "language_info": {
      "codemirror_mode": {
        "name": "ipython",
        "version": 3
      },
      "file_extension": ".py",
      "mimetype": "text/x-python",
      "name": "python",
      "nbconvert_exporter": "python",
      "pygments_lexer": "ipython3",
      "version": "3.9.7"
    },
    "colab": {
      "name": "Enviar Gmail.ipynb",
      "provenance": [],
      "include_colab_link": true
    }
  },
  "nbformat": 4,
  "nbformat_minor": 0
}